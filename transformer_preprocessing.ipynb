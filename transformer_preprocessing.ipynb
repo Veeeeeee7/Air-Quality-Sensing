{
 "cells": [
  {
   "cell_type": "code",
   "execution_count": 2,
   "metadata": {},
   "outputs": [],
   "source": [
    "import numpy as np\n",
    "import pandas as pd"
   ]
  },
  {
   "cell_type": "code",
   "execution_count": 38,
   "metadata": {},
   "outputs": [
    {
     "data": {
      "text/plain": [
       "((2313114, 34), (289139, 34), (289140, 34))"
      ]
     },
     "execution_count": 38,
     "metadata": {},
     "output_type": "execute_result"
    }
   ],
   "source": [
    "from sklearn.model_selection import train_test_split\n",
    "\n",
    "path = 'Data/AirQualityComplete/'\n",
    "\n",
    "df = pd.DataFrame()\n",
    "\n",
    "air_quality = pd.read_csv(path + 'airquality.csv', dtype={'station_id': str})\n",
    "station = pd.read_csv(path + 'station.csv', dtype={'station_id': str, 'district_id': str})\n",
    "meteorology = pd.read_csv(path + 'meteorology.csv', dtype={'id': str}).rename(columns={'id': 'district_id'})\n",
    "meteorology = meteorology[meteorology['district_id'].str.len() >= 5]\n",
    "\n",
    "df = pd.merge(air_quality, station, how='left', on='station_id')\n",
    "df = pd.merge(df, meteorology, how='left', on=['time', 'district_id'])\n",
    "\n",
    "weather_map = {\n",
    "    0: \"Sunny\",\n",
    "    1: \"Cloudy\",\n",
    "    2: \"Overcast\",\n",
    "    3: \"Rainy\",\n",
    "    4: \"Sprinkle\",\n",
    "    5: \"Moderate rain\",\n",
    "    6: \"Heavier rain\",\n",
    "    7: \"Rain storm\",\n",
    "    8: \"Thunder storm\",\n",
    "    9: \"Freezing rain\",\n",
    "    10: \"Snowy\",\n",
    "    11: \"Light snow\",\n",
    "    12: \"Moderate snow\",\n",
    "    13: \"Heavy snow\",\n",
    "    14: \"Foggy\",\n",
    "    15: \"Sand storm\",\n",
    "    16: \"Dusty\"\n",
    "}\n",
    "df['weather_label'] = df['weather'].map(weather_map)\n",
    "weather_dummies = pd.get_dummies(df['weather_label'], prefix='', prefix_sep='').astype(int)\n",
    "df = df.drop(['weather', 'weather_label'], axis=1)\n",
    "df = pd.concat([df, weather_dummies], axis=1)\n",
    "df.drop(columns=['district_id', 'name_chinese', 'name_english'], inplace=True)\n",
    "\n",
    "df['time'] = pd.to_datetime(df['time'])\n",
    "df['year'] = df['time'].dt.year\n",
    "df['month'] = df['time'].dt.month\n",
    "df['day'] = df['time'].dt.day\n",
    "df['hour'] = df['time'].dt.hour\n",
    "df = df.drop('time', axis=1)\n",
    "\n",
    "df.fillna(-1, inplace=True)\n",
    "\n",
    "df.to_csv(path + 'AirQualityComplete.csv', index=False)\n",
    "\n",
    "train_df, temp_df = train_test_split(df, test_size=0.2, random_state=42)\n",
    "val_df, test_df = train_test_split(temp_df, test_size=0.5, random_state=42)\n",
    "train_df.to_csv(path + 'train.csv', index=False)\n",
    "val_df.to_csv(path + 'val.csv', index=False)\n",
    "test_df.to_csv(path + 'test.csv', index=False)\n",
    "\n",
    "\n",
    "train_df.shape, val_df.shape, test_df.shape"
   ]
  },
  {
   "cell_type": "code",
   "execution_count": 37,
   "metadata": {},
   "outputs": [
    {
     "data": {
      "text/plain": [
       "Index(['station_id', 'PM25_Concentration', 'PM10_Concentration',\n",
       "       'NO2_Concentration', 'CO_Concentration', 'O3_Concentration',\n",
       "       'SO2_Concentration', 'latitude', 'longitude', 'temperature', 'pressure',\n",
       "       'humidity', 'wind_speed', 'wind_direction', 'Cloudy', 'Dusty', 'Foggy',\n",
       "       'Freezing rain', 'Heavier rain', 'Heavy snow', 'Light snow',\n",
       "       'Moderate rain', 'Moderate snow', 'Overcast', 'Rain storm', 'Rainy',\n",
       "       'Sand storm', 'Sprinkle', 'Sunny', 'Thunder storm', 'year', 'month',\n",
       "       'day', 'hour'],\n",
       "      dtype='object')"
      ]
     },
     "execution_count": 37,
     "metadata": {},
     "output_type": "execute_result"
    }
   ],
   "source": [
    "df.columns"
   ]
  },
  {
   "cell_type": "markdown",
   "metadata": {},
   "source": []
  }
 ],
 "metadata": {
  "kernelspec": {
   "display_name": ".venv",
   "language": "python",
   "name": "python3"
  },
  "language_info": {
   "codemirror_mode": {
    "name": "ipython",
    "version": 3
   },
   "file_extension": ".py",
   "mimetype": "text/x-python",
   "name": "python",
   "nbconvert_exporter": "python",
   "pygments_lexer": "ipython3",
   "version": "3.12.7"
  }
 },
 "nbformat": 4,
 "nbformat_minor": 2
}
