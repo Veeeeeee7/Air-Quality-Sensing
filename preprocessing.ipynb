{
 "cells": [
  {
   "cell_type": "code",
   "execution_count": 2,
   "metadata": {},
   "outputs": [],
   "source": [
    "import numpy as np\n",
    "import pandas as pd"
   ]
  },
  {
   "cell_type": "code",
   "execution_count": 33,
   "metadata": {},
   "outputs": [],
   "source": [
    "df_station = pd.read_csv(\"Data/AirQualityBeijing/Beijing/Station.txt\", sep=\",\", dtype={'station_id': str})\n",
    "\n",
    "df_position = df_station[['station_id', 'latitude', 'longitude']]\n",
    "\n",
    "df_crawled_data = pd.read_csv(\"Data/AirQualityBeijing/Beijing/CrawledData.txt\", dtype={'station_id': str})\n",
    "\n",
    "df_crawled_data = df_crawled_data[['station_id', 'time']]\n",
    "df_merged = pd.merge(df_crawled_data, df_position, on='station_id', how='left')\n",
    "df_merged['day'] = pd.to_datetime(df_merged['time'], format='%m/%d/%Y %I:%M:%S %p').dt.day\n",
    "df_merged['month'] = pd.to_datetime(df_merged['time'], format='%m/%d/%Y %I:%M:%S %p').dt.month\n",
    "df_merged['year'] = pd.to_datetime(df_merged['time'], format='%m/%d/%Y %I:%M:%S %p').dt.year\n",
    "df_merged['year'] = df_merged['year'].map({2013: 0, 2014: 1})\n",
    "df_merged['hour'] = pd.to_datetime(df_merged['time'], format='%m/%d/%Y %I:%M:%S %p').dt.hour\n",
    "df_merged['AM_PM'] = pd.to_datetime(df_merged['time'], format='%m/%d/%Y %I:%M:%S %p').dt.strftime('%p')\n",
    "df_merged['AM_PM'] = df_merged['AM_PM'].map({'AM': 0, 'PM': 1})\n",
    "\n",
    "df_merged = df_merged.drop(columns=['time'])\n",
    "\n",
    "df_merged[['station_id', 'latitude', 'longitude']].to_csv(\"Data/Preprocessed/PositionFeatures.csv\", index=False)\n",
    "df_time_features = df_merged[['station_id', 'day', 'month', 'year', 'hour', 'AM_PM']]\n",
    "df_time_features.to_csv(\"Data/Preprocessed/TimeFeatures.csv\", index=False)"
   ]
  },
  {
   "cell_type": "code",
   "execution_count": 30,
   "metadata": {},
   "outputs": [],
   "source": [
    "df_crawled_data = pd.read_csv(\"Data/AirQualityBeijing/Beijing/CrawledData.txt\", dtype={'station_id': str})\n",
    "\n",
    "df_position_features = df_crawled_data[['station_id','PM10_AQI_value', 'NO2_AQI_value', 'temperature', 'pressure', 'humidity', 'wind', 'weather']]\n",
    "df_position_features.iloc[:, 1:-1] = df_position_features.iloc[:, 1:-1].apply(lambda x: (x - x.min()) / (x.max() - x.min()))\n",
    "df_position_features.to_csv(\"Data/Preprocessed/Features.csv\", index=False)"
   ]
  },
  {
   "cell_type": "code",
   "execution_count": 31,
   "metadata": {},
   "outputs": [],
   "source": [
    "df_values = df_crawled_data[['station_id', 'PM25_AQI_value']]\n",
    "df_values.loc[:, 'PM25_AQI_value'] = (df_values['PM25_AQI_value'] - df_values['PM25_AQI_value'].min()) / (df_values['PM25_AQI_value'].max() - df_values['PM25_AQI_value'].min())\n",
    "df_values.to_csv(\"Data/Preprocessed/Values.csv\", index=False)"
   ]
  },
  {
   "cell_type": "code",
   "execution_count": 4,
   "metadata": {},
   "outputs": [
    {
     "data": {
      "text/plain": [
       "station_id        1013.891751\n",
       "PM25_AQI_value       0.160660\n",
       "dtype: float64"
      ]
     },
     "execution_count": 4,
     "metadata": {},
     "output_type": "execute_result"
    }
   ],
   "source": [
    "values = pd.read_csv('Data/Split1/Train/Values.csv')\n",
    "values.mean()"
   ]
  },
  {
   "cell_type": "code",
   "execution_count": null,
   "metadata": {},
   "outputs": [],
   "source": []
  }
 ],
 "metadata": {
  "kernelspec": {
   "display_name": ".venv",
   "language": "python",
   "name": "python3"
  },
  "language_info": {
   "codemirror_mode": {
    "name": "ipython",
    "version": 3
   },
   "file_extension": ".py",
   "mimetype": "text/x-python",
   "name": "python",
   "nbconvert_exporter": "python",
   "pygments_lexer": "ipython3",
   "version": "3.12.7"
  }
 },
 "nbformat": 4,
 "nbformat_minor": 2
}
